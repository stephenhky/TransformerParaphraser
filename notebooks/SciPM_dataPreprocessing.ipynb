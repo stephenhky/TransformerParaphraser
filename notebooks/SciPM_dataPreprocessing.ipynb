{
 "cells": [
  {
   "cell_type": "code",
   "execution_count": 1,
   "id": "d10795d1-f46b-4320-b03c-140347646d3e",
   "metadata": {},
   "outputs": [],
   "source": [
    "import os\n",
    "\n",
    "import pandas as pd"
   ]
  },
  {
   "cell_type": "code",
   "execution_count": 2,
   "id": "a1084422-8cdf-4878-886d-5d9eb2b10b7b",
   "metadata": {},
   "outputs": [],
   "source": [
    "dataparentdir = '/Users/irqmlnlp/PycharmProjects/ParaSCI'"
   ]
  },
  {
   "cell_type": "code",
   "execution_count": 6,
   "id": "1b4e7e73-648c-4ef1-b271-8070c007b1bd",
   "metadata": {},
   "outputs": [],
   "source": [
    "def make_data(original_sentence, target_sentence):\n",
    "    return '<s>' + target_sentence.strip() + '</s>' + '>>>>' + '<p>' + original_sentence.strip() + '</p>'\n",
    "\n",
    "def process_records(source_path, target_path):\n",
    "    source_file = open(source_path, 'r')\n",
    "    target_file = open(target_path, 'r')\n",
    "    \n",
    "    for source_line, target_line in zip(source_file, target_file):\n",
    "        yield make_data(source_line, target_line)"
   ]
  },
  {
   "cell_type": "code",
   "execution_count": 7,
   "id": "45e63ab5-5864-4fef-af46-1e8485915687",
   "metadata": {},
   "outputs": [],
   "source": [
    "# ACL train\n",
    "sourcefile = '/Users/irqmlnlp/PycharmProjects/ParaSCI/Data/ParaSCI-ACL/train/train.src'\n",
    "targetfile = '/Users/irqmlnlp/PycharmProjects/ParaSCI/Data/ParaSCI-ACL/train/train.tgt'\n",
    "\n",
    "outputfile = open('/Users/irqmlnlp/Downloads/ACL_train.tsv', 'w')\n",
    "for line in process_records(sourcefile, targetfile):\n",
    "    outputfile.write(line + '\\n')\n",
    "outputfile.close()"
   ]
  },
  {
   "cell_type": "code",
   "execution_count": 8,
   "id": "f55aacef-36f0-44a0-8e1d-09a27b6a701e",
   "metadata": {},
   "outputs": [],
   "source": [
    "# ACL test\n",
    "sourcefile = '/Users/irqmlnlp/PycharmProjects/ParaSCI/Data/ParaSCI-ACL/test/test.src'\n",
    "targetfile = '/Users/irqmlnlp/PycharmProjects/ParaSCI/Data/ParaSCI-ACL/test/test.tgt'\n",
    "\n",
    "outputfile = open('/Users/irqmlnlp/Downloads/ACL_test.tsv', 'w')\n",
    "for line in process_records(sourcefile, targetfile):\n",
    "    outputfile.write(line + '\\n')\n",
    "outputfile.close()"
   ]
  },
  {
   "cell_type": "code",
   "execution_count": 9,
   "id": "dace37ac-8d2c-4f93-bc0a-e069912c35b4",
   "metadata": {},
   "outputs": [],
   "source": [
    "# arXiv train\n",
    "sourcefile = '/Users/irqmlnlp/PycharmProjects/ParaSCI/Data/ParaSCI-arXiv/train/train.src'\n",
    "targetfile = '/Users/irqmlnlp/PycharmProjects/ParaSCI/Data/ParaSCI-arXiv/train/train.tgt'\n",
    "\n",
    "outputfile = open('/Users/irqmlnlp/Downloads/arXiv_train.tsv', 'w')\n",
    "for line in process_records(sourcefile, targetfile):\n",
    "    outputfile.write(line + '\\n')\n",
    "outputfile.close()"
   ]
  },
  {
   "cell_type": "code",
   "execution_count": 10,
   "id": "12a60dc6-c22a-44cb-93b0-0eefbb92fb17",
   "metadata": {},
   "outputs": [],
   "source": [
    "# arXiv train\n",
    "sourcefile = '/Users/irqmlnlp/PycharmProjects/ParaSCI/Data/ParaSCI-arXiv/test/test.src'\n",
    "targetfile = '/Users/irqmlnlp/PycharmProjects/ParaSCI/Data/ParaSCI-arXiv/test/test.tgt'\n",
    "\n",
    "outputfile = open('/Users/irqmlnlp/Downloads/arXiv_test.tsv', 'w')\n",
    "for line in process_records(sourcefile, targetfile):\n",
    "    outputfile.write(line + '\\n')\n",
    "outputfile.close()"
   ]
  },
  {
   "cell_type": "code",
   "execution_count": null,
   "id": "b7cf1f22-fdea-44ec-8015-0c5ababde61c",
   "metadata": {},
   "outputs": [],
   "source": []
  }
 ],
 "metadata": {
  "kernelspec": {
   "display_name": "llm",
   "language": "python",
   "name": "llm"
  },
  "language_info": {
   "codemirror_mode": {
    "name": "ipython",
    "version": 3
   },
   "file_extension": ".py",
   "mimetype": "text/x-python",
   "name": "python",
   "nbconvert_exporter": "python",
   "pygments_lexer": "ipython3",
   "version": "3.12.8"
  }
 },
 "nbformat": 4,
 "nbformat_minor": 5
}
